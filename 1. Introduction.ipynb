{
 "cells": [
  {
   "cell_type": "markdown",
   "id": "97f32edf",
   "metadata": {},
   "source": [
    "# Introduction "
   ]
  },
  {
   "cell_type": "markdown",
   "id": "e93ea761",
   "metadata": {},
   "source": [
    "### Why do we design for vibration?"
   ]
  },
  {
   "cell_type": "code",
   "execution_count": 2,
   "id": "e02146e5",
   "metadata": {},
   "outputs": [],
   "source": [
    "\n",
    "\n",
    "# When using long spans and lightweight construction, vibration can become an important issue.\n",
    "# Human sensitivity to vibration has been shown to depend on frequency, amplitude and damp-\n",
    "# ing. Vibrations can detract from the use of the structure or can compromise the structural\n",
    "# strength and stability.\n",
    "\n",
    "\n",
    "# Vibrations can be caused by wind, plant, people, adjacent building works, traffic, earthquakes\n",
    "# or wave action. Structures will respond differently depending on their mass and stiffness.\n",
    "# Damping is the name given to the ability of the structure to dissipate the energy of the vibra-\n",
    "# tions — usually by friction in structural and non-structural components. While there are many\n",
    "# sources of advice on vibrations in structures, assessment is not straightforward. In simple cases,\n",
    "# structures should be designed so that their natural frequency is greater than 4.5 Hz to help\n",
    "# prevent the structure from being dynamically excitable. Special cases may require tighter limits."
   ]
  },
  {
   "cell_type": "markdown",
   "id": "19a1b41e",
   "metadata": {},
   "source": [
    "### The purpose of this program "
   ]
  },
  {
   "cell_type": "code",
   "execution_count": null,
   "id": "a3eee539",
   "metadata": {},
   "outputs": [],
   "source": [
    "# In the aim of developing my coding ability and pursuing new applications OF Python within Engineering \n",
    "# in the built environment, this program adopts the principles of the Duhamel integral to\n",
    "# to calculate the reponse of linear systems and structures to arbitrary time-varying external\n",
    "# perturbation. This integral can be used to simulate the repsonse of a single-degree-of-freedom \n",
    "# system to any form of dynamic loading. \n",
    "\n",
    "# I created this program during the detailed design of a pedestrian ramp in Ipswich as part of a new \n",
    "# housing development scheme by Galliard Homes. Modelling crowd simulation and the vibration effects \n",
    "# is particulary critical for light weight structures. The typical method of modelling within the company\n",
    "# prior to the completion of this project was via Excel or specilaist programmes. "
   ]
  }
 ],
 "metadata": {
  "kernelspec": {
   "display_name": "Python 3 (ipykernel)",
   "language": "python",
   "name": "python3"
  },
  "language_info": {
   "codemirror_mode": {
    "name": "ipython",
    "version": 3
   },
   "file_extension": ".py",
   "mimetype": "text/x-python",
   "name": "python",
   "nbconvert_exporter": "python",
   "pygments_lexer": "ipython3",
   "version": "3.11.5"
  }
 },
 "nbformat": 4,
 "nbformat_minor": 5
}
