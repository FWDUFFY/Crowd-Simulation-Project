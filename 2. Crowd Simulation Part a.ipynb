{
 "cells": [
  {
   "cell_type": "code",
   "execution_count": 1,
   "id": "80ff0700",
   "metadata": {},
   "outputs": [],
   "source": [
    "import math\n",
    "import numpy as np\n",
    "import matplotlib.pyplot as plt"
   ]
  },
  {
   "cell_type": "markdown",
   "id": "b87a71c9",
   "metadata": {},
   "source": [
    "## 2.1 Analytical Solution to the Duhamel Integral"
   ]
  },
  {
   "cell_type": "code",
   "execution_count": 1,
   "id": "055e85e5",
   "metadata": {},
   "outputs": [
    {
     "data": {
      "text/latex": [
       "$\\displaystyle \\begin{cases} \\frac{t}{w} - \\frac{\\sin{\\left(t w \\right)}}{w^{2}} & \\text{for}\\: w > -\\infty \\wedge w < \\infty \\wedge w \\neq 0 \\\\0 & \\text{otherwise} \\end{cases}$"
      ],
      "text/plain": [
       "⎧t   sin(t⋅w)                            \n",
       "⎪─ - ────────  for w > -∞ ∧ w < ∞ ∧ w ≠ 0\n",
       "⎪w       2                               \n",
       "⎨       w                                \n",
       "⎪                                        \n",
       "⎪     0                otherwise         \n",
       "⎩                                        "
      ]
     },
     "execution_count": 1,
     "metadata": {},
     "output_type": "execute_result"
    }
   ],
   "source": [
    "import sympy as sym\n",
    "sym.init_printing()\n",
    "\n",
    "# Within the calculations we want Python to treat symbols as symbols rather than variables with a value\n",
    "m = sym.Symbol('m')\n",
    "w = sym.Symbol('w')\n",
    "P0 = sym.Symbol('P0')\n",
    "t1= sym.Symbol('t1')\n",
    "tau = sym.Symbol('tau')\n",
    "t = sym.Symbol('t')\n",
    "\n",
    "f= tau * sym.sin(w*t-w*tau)\n",
    "\n",
    "# Here I will use the sympy intergate function to integrate this formula, with the following inputs:\n",
    "# sym.integrate(function,(with respect to, lower_limit,upper_limit)) \n",
    "\n",
    "defInt = sym.integrate(f,(tau,0,t))\n",
    "\n",
    "defInt"
   ]
  },
  {
   "cell_type": "code",
   "execution_count": 2,
   "id": "07387eb1",
   "metadata": {},
   "outputs": [
    {
     "name": "stdout",
     "output_type": "stream",
     "text": [
      "SymPy generated the following expression for the definite integral:\n"
     ]
    },
    {
     "data": {
      "text/latex": [
       "$\\displaystyle \\begin{cases} \\frac{t w - \\sin{\\left(t w \\right)}}{w^{2}} & \\text{for}\\: \\left(w > -\\infty \\vee w > 0\\right) \\wedge \\left(w > -\\infty \\vee w < \\infty\\right) \\wedge \\left(w > 0 \\vee w < 0\\right) \\wedge \\left(w < 0 \\vee w < \\infty\\right) \\\\0 & \\text{otherwise} \\end{cases}$"
      ],
      "text/plain": [
       "⎧t⋅w - sin(t⋅w)                                                               \n",
       "⎪──────────────  for (w > -∞ ∨ w > 0) ∧ (w > -∞ ∨ w < ∞) ∧ (w > 0 ∨ w < 0) ∧ (\n",
       "⎪       2                                                                     \n",
       "⎨      w                                                                      \n",
       "⎪                                                                             \n",
       "⎪      0                                          otherwise                   \n",
       "⎩                                                                             \n",
       "\n",
       "              \n",
       "w < 0 ∨ w < ∞)\n",
       "              \n",
       "              \n",
       "              \n",
       "              \n",
       "              "
      ]
     },
     "execution_count": 2,
     "metadata": {},
     "output_type": "execute_result"
    }
   ],
   "source": [
    "print('SymPy generated the following expression for the definite integral:')\n",
    "sym.simplify(defInt)"
   ]
  },
  {
   "cell_type": "code",
   "execution_count": 12,
   "id": "c6741bad",
   "metadata": {},
   "outputs": [
    {
     "name": "stdout",
     "output_type": "stream",
     "text": [
      "[ 0  1  2  3  4  5  6  7  8  9 10]\n"
     ]
    }
   ],
   "source": [
    "P0 = 1000\n",
    "t1 = 10\n",
    "delT = 1\n",
    "#use NumPy to create a list range from 0 to t1 + delT with a difference of delT\n",
    "t = np.arange(0,t1 + delT, delT)\n",
    "print(t)"
   ]
  },
  {
   "cell_type": "code",
   "execution_count": 1,
   "id": "3a442924",
   "metadata": {},
   "outputs": [
    {
     "ename": "NameError",
     "evalue": "name 'plt' is not defined",
     "output_type": "error",
     "traceback": [
      "\u001b[1;31m---------------------------------------------------------------------------\u001b[0m",
      "\u001b[1;31mNameError\u001b[0m                                 Traceback (most recent call last)",
      "Cell \u001b[1;32mIn[1], line 5\u001b[0m\n\u001b[0;32m      2\u001b[0m period_range \u001b[38;5;241m=\u001b[39m [ \u001b[38;5;241m0.3\u001b[39m , \u001b[38;5;241m0.4\u001b[39m , \u001b[38;5;241m0.5\u001b[39m]\n\u001b[0;32m      4\u001b[0m \u001b[38;5;66;03m#initialise a figure to plot onto\u001b[39;00m\n\u001b[1;32m----> 5\u001b[0m fig \u001b[38;5;241m=\u001b[39m plt\u001b[38;5;241m.\u001b[39mfigure()\n\u001b[0;32m      6\u001b[0m axes \u001b[38;5;241m=\u001b[39m fig\u001b[38;5;241m.\u001b[39madd_axes([\u001b[38;5;241m0.1\u001b[39m,\u001b[38;5;241m0.1\u001b[39m,\u001b[38;5;241m2\u001b[39m,\u001b[38;5;241m1\u001b[39m])\n\u001b[0;32m      8\u001b[0m \u001b[38;5;28;01mfor\u001b[39;00m pr \u001b[38;5;129;01min\u001b[39;00m period_range:\n",
      "\u001b[1;31mNameError\u001b[0m: name 'plt' is not defined"
     ]
    }
   ],
   "source": [
    "m = 20\n",
    "period_range = [ 0.3 , 0.4 , 0.5]\n",
    "\n",
    "#initialise a figure to plot onto\n",
    "fig = plt.figure()\n",
    "axes = fig.add_axes([0.1,0.1,2,1])\n",
    "\n",
    "for pr in period_range:\n",
    "    T = pr*t1\n",
    "    wn = 2*math.pi/T\n",
    "    k = m*wn**2\n",
    "    u = (P0/k)*((t/t1) - ((np.sin(wn*t))/(wn*t1)))   \n",
    "#normalise the axes so they range from 0 - 1\n",
    "    axes.plot(t/t1,u/(P0/k), label = f'T = {pr}t1')\n",
    "              \n",
    "#Housekeeping\n",
    "axes.set_xlabel('t/t1')  \n",
    "axes.set_ylabel('Displacement ratio')\n",
    "axes.set_title('SDoF system response to ramp loading')\n",
    "axes.legend(loc = 'upper left')\n",
    "plt.grid()\n",
    "plt.show()"
   ]
  }
 ],
 "metadata": {
  "kernelspec": {
   "display_name": "Python 3 (ipykernel)",
   "language": "python",
   "name": "python3"
  },
  "language_info": {
   "codemirror_mode": {
    "name": "ipython",
    "version": 3
   },
   "file_extension": ".py",
   "mimetype": "text/x-python",
   "name": "python",
   "nbconvert_exporter": "python",
   "pygments_lexer": "ipython3",
   "version": "3.11.5"
  }
 },
 "nbformat": 4,
 "nbformat_minor": 5
}
